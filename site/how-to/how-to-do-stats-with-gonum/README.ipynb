{
  "nbformat": 4,
  "nbformat_minor": 0,
  "metadata": {
    "colab": {
      "name": "GonumStatsDP.ipynb",
      "provenance": []
    },
    "kernelspec": {
      "name": "python3",
      "display_name": "Python 3"
    }
  },
  "cells": [
    {
      "cell_type": "markdown",
      "metadata": {
        "id": "_xluGHP9XdOY",
        "colab_type": "text"
      },
      "source": [
        "# How to do Statistics on a Datapackage with Gonum\n",
        "---\n",
        "**intermediate | GO | Datapackage**\n",
        "---\n",
        "## Learning Goals:\n",
        "- Learn how to use Gonum to calculate some basic statistics with a data package loaded from the web.\n",
        "- This How-To assumes knowledge of GO, [Gonum](https://gonum.org/), and datapackages.\n",
        "\n",
        "## Introduction\n",
        "\n",
        "\n"
      ]
    },
    {
      "cell_type": "markdown",
      "metadata": {
        "id": "bfH9ksB_XmVM",
        "colab_type": "text"
      },
      "source": [
        "## Step 0: Installation"
      ]
    },
    {
      "cell_type": "markdown",
      "metadata": {
        "id": "wQln0fmXhpyX",
        "colab_type": "text"
      },
      "source": [
        "Before being able to use datapackage and Gonum, we need to install Go. We can download and install the [Go](https://golang.org/) toolchain for a variety of platforms and operating systems from [golang.org/dl](golang.org/dl). This post assumes the installation of version 11 or newer.\n",
        "\n",
        "After installing Go, the runtime will download Gonum, datapackage and all its dependencies as part of running the go script."
      ]
    },
    {
      "cell_type": "markdown",
      "metadata": {
        "id": "BNzI-jCfXqq5",
        "colab_type": "text"
      },
      "source": [
        "## Step 1:Read in the Datapackage"
      ]
    },
    {
      "cell_type": "code",
      "metadata": {
        "id": "_h2xgbSrXuOB",
        "colab_type": "code",
        "outputId": "a3f3e4f0-6169-46fc-ba40-aa418342f5e5",
        "colab": {
          "base_uri": "https://localhost:8080/",
          "height": 130
        }
      },
      "source": [
        "# file: stats.go\n",
        "\n",
        "package main\n",
        "\n",
        "import (\n",
        "    \"fmt\"\n",
        "\n",
        "    \"github.com/frictionlessdata/datapackage-go/datapackage\"\n",
        ")\n",
        "\n",
        "func main() {\n",
        "    pkg, err := datapackage.Load(\"https://raw.githubusercontent.com/frictionlessdata/example-data-packages/62d47b454d95a95b6029214b9533de79401e953a/periodic-table/datapackage.json\")\n",
        "    if err != nil {\n",
        "        panic(err)\n",
        "    }\n",
        "    res := pkg.GetResource(\"data\")\n",
        "    table, err := res.ReadAll()\n",
        "    if err != nil {\n",
        "        panic(err)\n",
        "    }\n",
        "    for i := 0; i < 4; i++ {\n",
        "        fmt.Println(table[i])\n",
        "    }\n",
        "}"
      ],
      "execution_count": 0,
      "outputs": [
        {
          "output_type": "error",
          "ename": "SyntaxError",
          "evalue": "ignored",
          "traceback": [
            "\u001b[0;36m  File \u001b[0;32m\"<ipython-input-2-6774d300ae6b>\"\u001b[0;36m, line \u001b[0;32m3\u001b[0m\n\u001b[0;31m    package main\u001b[0m\n\u001b[0m               ^\u001b[0m\n\u001b[0;31mSyntaxError\u001b[0m\u001b[0;31m:\u001b[0m invalid syntax\n"
          ]
        }
      ]
    },
    {
      "cell_type": "markdown",
      "metadata": {
        "id": "1V51xG2JXuoF",
        "colab_type": "text"
      },
      "source": [
        "## Step 2: Step 2 title"
      ]
    },
    {
      "cell_type": "code",
      "metadata": {
        "id": "doz3pIkOXwii",
        "colab_type": "code",
        "colab": {}
      },
      "source": [
        ""
      ],
      "execution_count": 0,
      "outputs": []
    },
    {
      "cell_type": "markdown",
      "metadata": {
        "id": "H1ei5LG1XxPi",
        "colab_type": "text"
      },
      "source": [
        "## Step #: Last step title"
      ]
    },
    {
      "cell_type": "code",
      "metadata": {
        "id": "kqk3XTuvX3-r",
        "colab_type": "code",
        "colab": {}
      },
      "source": [
        ""
      ],
      "execution_count": 0,
      "outputs": []
    },
    {
      "cell_type": "markdown",
      "metadata": {
        "id": "t7uyIxMMX4OL",
        "colab_type": "text"
      },
      "source": [
        "## Related Reference Documentation\n",
        "- links like: https://github.com/frictionlessdata/datapackage-py"
      ]
    },
    {
      "cell_type": "markdown",
      "metadata": {
        "id": "XGJ_6LjrQBln",
        "colab_type": "text"
      },
      "source": [
        "*By Daniel Fireman, [originally published](https://okfnlabs.org/blog/2019/08/01/intro-statistics-datapackage-gonum.html) 2019-08-01. After 6 years at Google, Daniel Fireman is currently a Ph.D. student, professor and activist for government transparency and accountability in the Northeast of Brazil. He was one of the 2017’s Frictionless Data Tool Fund grantees and implemented the core Frictionless Data specification in the Go programming language: [datapackage](https://github.com/frictionlessdata/datapackage-go) and [tableschema](https://github.com/frictionlessdata/tableschema-go), which he still maintains. You can read more about this in his [grantee profile](https://frictionlessdata.io/blog/2017/11/01/daniel-fireman/).*"
      ]
    }
  ]
}