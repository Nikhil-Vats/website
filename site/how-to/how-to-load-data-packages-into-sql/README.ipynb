{
  "nbformat": 4,
  "nbformat_minor": 0,
  "metadata": {
    "colab": {
      "name": "HowToLoadSQLite.ipynb",
      "provenance": []
    },
    "kernelspec": {
      "name": "python3",
      "display_name": "Python 3"
    }
  },
  "cells": [
    {
      "cell_type": "markdown",
      "metadata": {
        "id": "_xluGHP9XdOY",
        "colab_type": "text"
      },
      "source": [
        "# How to Load a Datapackage into a SQL database\n",
        "---\n",
        "**Intermediate | Python, SQL | Datapackage**\n",
        "---\n",
        "## Learning Goals:\n",
        "- Learn how to import your Data Package into the SQL backend of your choice (we use a SQLite database here).\n",
        "- This How-To assumes knowledge of the [Table Schema spec](https://specs.frictionlessdata.io/table-schema/) and SQLite."
      ]
    },
    {
      "cell_type": "markdown",
      "metadata": {
        "id": "bfH9ksB_XmVM",
        "colab_type": "text"
      },
      "source": [
        "## Step 0: Install the Table Schema SQL Storage library"
      ]
    },
    {
      "cell_type": "code",
      "metadata": {
        "id": "VTS9JB9MXp_J",
        "colab_type": "code",
        "outputId": "44219135-f465-43a5-f520-3ae68d522d15",
        "colab": {
          "base_uri": "https://localhost:8080/",
          "height": 615
        }
      },
      "source": [
        "!pip install tableschema-sql\n",
        "!pip install datapackage\n",
        "import datapackage"
      ],
      "execution_count": 0,
      "outputs": [
        {
          "output_type": "stream",
          "text": [
            "Collecting datapackage\n",
            "\u001b[?25l  Downloading https://files.pythonhosted.org/packages/08/ff/85c2e70640770c169f2ab4a53dfa8f86fa73bcbfe071a1d477f7c0be7a1d/datapackage-1.13.0-py2.py3-none-any.whl (84kB)\n",
            "\r\u001b[K     |███▉                            | 10kB 17.6MB/s eta 0:00:01\r\u001b[K     |███████▊                        | 20kB 3.1MB/s eta 0:00:01\r\u001b[K     |███████████▋                    | 30kB 3.8MB/s eta 0:00:01\r\u001b[K     |███████████████▍                | 40kB 4.0MB/s eta 0:00:01\r\u001b[K     |███████████████████▎            | 51kB 3.6MB/s eta 0:00:01\r\u001b[K     |███████████████████████▏        | 61kB 3.9MB/s eta 0:00:01\r\u001b[K     |███████████████████████████     | 71kB 4.3MB/s eta 0:00:01\r\u001b[K     |██████████████████████████████▉ | 81kB 4.5MB/s eta 0:00:01\r\u001b[K     |████████████████████████████████| 92kB 3.8MB/s \n",
            "\u001b[?25hRequirement already satisfied: requests>=2.8 in /usr/local/lib/python3.6/dist-packages (from datapackage) (2.23.0)\n",
            "Requirement already satisfied: chardet>=3.0 in /usr/local/lib/python3.6/dist-packages (from datapackage) (3.0.4)\n",
            "Requirement already satisfied: unicodecsv>=0.14 in /usr/local/lib/python3.6/dist-packages (from datapackage) (0.14.1)\n",
            "Requirement already satisfied: jsonschema>=2.5 in /usr/local/lib/python3.6/dist-packages (from datapackage) (2.6.0)\n",
            "Requirement already satisfied: tableschema>=1.12.1 in /usr/local/lib/python3.6/dist-packages (from datapackage) (1.17.0)\n",
            "Collecting jsonpointer>=1.10\n",
            "  Downloading https://files.pythonhosted.org/packages/18/b0/a80d29577c08eea401659254dfaed87f1af45272899e1812d7e01b679bc5/jsonpointer-2.0-py2.py3-none-any.whl\n",
            "Requirement already satisfied: click>=6.7 in /usr/local/lib/python3.6/dist-packages (from datapackage) (7.1.2)\n",
            "Requirement already satisfied: tabulator>=1.29 in /usr/local/lib/python3.6/dist-packages (from datapackage) (1.44.7)\n",
            "Requirement already satisfied: six>=1.10 in /usr/local/lib/python3.6/dist-packages (from datapackage) (1.12.0)\n",
            "Requirement already satisfied: certifi>=2017.4.17 in /usr/local/lib/python3.6/dist-packages (from requests>=2.8->datapackage) (2020.4.5.1)\n",
            "Requirement already satisfied: idna<3,>=2.5 in /usr/local/lib/python3.6/dist-packages (from requests>=2.8->datapackage) (2.9)\n",
            "Requirement already satisfied: urllib3!=1.25.0,!=1.25.1,<1.26,>=1.21.1 in /usr/local/lib/python3.6/dist-packages (from requests>=2.8->datapackage) (1.24.3)\n",
            "Requirement already satisfied: python-dateutil>=2.4 in /usr/local/lib/python3.6/dist-packages (from tableschema>=1.12.1->datapackage) (2.8.1)\n",
            "Requirement already satisfied: isodate>=0.5.4 in /usr/local/lib/python3.6/dist-packages (from tableschema>=1.12.1->datapackage) (0.6.0)\n",
            "Requirement already satisfied: rfc3986>=1.1.0 in /usr/local/lib/python3.6/dist-packages (from tableschema>=1.12.1->datapackage) (1.4.0)\n",
            "Requirement already satisfied: xlrd>=1.0 in /usr/local/lib/python3.6/dist-packages (from tabulator>=1.29->datapackage) (1.1.0)\n",
            "Requirement already satisfied: boto3>=1.9 in /usr/local/lib/python3.6/dist-packages (from tabulator>=1.29->datapackage) (1.13.4)\n",
            "Requirement already satisfied: jsonlines>=1.1 in /usr/local/lib/python3.6/dist-packages (from tabulator>=1.29->datapackage) (1.2.0)\n",
            "Requirement already satisfied: openpyxl>=2.6 in /usr/local/lib/python3.6/dist-packages (from tabulator>=1.29->datapackage) (3.0.3)\n",
            "Requirement already satisfied: sqlalchemy>=0.9.6 in /usr/local/lib/python3.6/dist-packages (from tabulator>=1.29->datapackage) (1.3.16)\n",
            "Requirement already satisfied: linear-tsv>=1.0 in /usr/local/lib/python3.6/dist-packages (from tabulator>=1.29->datapackage) (1.1.0)\n",
            "Requirement already satisfied: ijson>=3.0.3 in /usr/local/lib/python3.6/dist-packages (from tabulator>=1.29->datapackage) (3.0.4)\n",
            "Requirement already satisfied: botocore<1.17.0,>=1.16.4 in /usr/local/lib/python3.6/dist-packages (from boto3>=1.9->tabulator>=1.29->datapackage) (1.16.4)\n",
            "Requirement already satisfied: jmespath<1.0.0,>=0.7.1 in /usr/local/lib/python3.6/dist-packages (from boto3>=1.9->tabulator>=1.29->datapackage) (0.9.5)\n",
            "Requirement already satisfied: s3transfer<0.4.0,>=0.3.0 in /usr/local/lib/python3.6/dist-packages (from boto3>=1.9->tabulator>=1.29->datapackage) (0.3.3)\n",
            "Requirement already satisfied: et-xmlfile in /usr/local/lib/python3.6/dist-packages (from openpyxl>=2.6->tabulator>=1.29->datapackage) (1.0.1)\n",
            "Requirement already satisfied: jdcal in /usr/local/lib/python3.6/dist-packages (from openpyxl>=2.6->tabulator>=1.29->datapackage) (1.4.1)\n",
            "Requirement already satisfied: docutils<0.16,>=0.10 in /usr/local/lib/python3.6/dist-packages (from botocore<1.17.0,>=1.16.4->boto3>=1.9->tabulator>=1.29->datapackage) (0.15.2)\n",
            "Installing collected packages: jsonpointer, datapackage\n",
            "Successfully installed datapackage-1.13.0 jsonpointer-2.0\n"
          ],
          "name": "stdout"
        }
      ]
    },
    {
      "cell_type": "markdown",
      "metadata": {
        "id": "BNzI-jCfXqq5",
        "colab_type": "text"
      },
      "source": [
        "## Step 1: Load your Data"
      ]
    },
    {
      "cell_type": "code",
      "metadata": {
        "id": "_h2xgbSrXuOB",
        "colab_type": "code",
        "outputId": "69f55e0d-02f5-49f9-fd60-f2c77e2cc79b",
        "colab": {
          "base_uri": "https://localhost:8080/",
          "height": 34
        }
      },
      "source": [
        "#create a data package\n",
        "url = 'https://raw.githubusercontent.com/frictionlessdata/example-data-packages/master/periodic-table/datapackage.json'\n",
        "dp = datapackage.Package(url)\n",
        "\n",
        "# create the database connection (using SQLAlchemy)\n",
        "from sqlalchemy import create_engine\n",
        "\n",
        "# Load and save table to SQL\n",
        "engine = create_engine('sqlite:///periodic-table-datapackage.db')\n",
        "dp.save(storage='sql', engine=engine)"
      ],
      "execution_count": 0,
      "outputs": [
        {
          "output_type": "execute_result",
          "data": {
            "text/plain": [
              "Storage <Engine(sqlite:///periodic-table-datapackage.db)/None>"
            ]
          },
          "metadata": {
            "tags": []
          },
          "execution_count": 6
        }
      ]
    },
    {
      "cell_type": "markdown",
      "metadata": {
        "id": "1V51xG2JXuoF",
        "colab_type": "text"
      },
      "source": [
        "## Step 2: Check if Your Data Has Been Saved Successfully"
      ]
    },
    {
      "cell_type": "code",
      "metadata": {
        "id": "doz3pIkOXwii",
        "colab_type": "code",
        "outputId": "523cf449-4f83-4bf7-aaba-ea41559a42df",
        "colab": {
          "base_uri": "https://localhost:8080/",
          "height": 1000
        }
      },
      "source": [
        "list(engine.execute('SELECT * from data'))\n"
      ],
      "execution_count": 0,
      "outputs": [
        {
          "output_type": "execute_result",
          "data": {
            "text/plain": [
              "[(1, 'H', 'Hydrogen', 1.00794, 'nonmetal'),\n",
              " (2, 'He', 'Helium', 4.002602, 'noble gas'),\n",
              " (3, 'Li', 'Lithium', 6.941, 'alkali metal'),\n",
              " (4, 'Be', 'Beryllium', 9.012182, 'alkaline earth metal'),\n",
              " (5, 'B', 'Boron', 10.811, 'metalloid'),\n",
              " (6, 'C', 'Carbon', 12.0107, 'nonmetal'),\n",
              " (7, 'N', 'Nitrogen', 14.0067, 'nonmetal'),\n",
              " (8, 'O', 'Oxygen', 15.9994, 'nonmetal'),\n",
              " (9, 'F', 'Fluorine', 18.9984032, 'halogen'),\n",
              " (10, 'Ne', 'Neon', 20.1797, 'noble gas'),\n",
              " (11, 'Na', 'Sodium', 22.98976928, 'alkali metal'),\n",
              " (12, 'Mg', 'Magnesium', 24.305, 'alkaline earth metal'),\n",
              " (13, 'Al', 'Aluminum', 26.9815386, 'metal'),\n",
              " (14, 'Si', 'Silicon', 28.0855, 'metalloid'),\n",
              " (15, 'P', 'Phosphorus', 30.973762, 'nonmetal'),\n",
              " (16, 'S', 'Sulfur', 32.065, 'nonmetal'),\n",
              " (17, 'Cl', 'Chlorine', 35.453, 'halogen'),\n",
              " (18, 'Ar', 'Argon', 39.948, 'noble gas'),\n",
              " (19, 'K', 'Potassium', 39.0983, 'alkali metal'),\n",
              " (20, 'Ca', 'Calcium', 40.078, 'alkaline earth metal'),\n",
              " (21, 'Sc', 'Scandium', 44.955912, 'transition metal'),\n",
              " (22, 'Ti', 'Titanium', 47.867, 'transition metal'),\n",
              " (23, 'V', 'Vanadium', 50.9415, 'transition metal'),\n",
              " (24, 'Cr', 'Chromium', 51.9961, 'transition metal'),\n",
              " (25, 'Mn', 'Manganese', 54.938045, 'transition metal'),\n",
              " (26, 'Fe', 'Iron', 55.845, 'transition metal'),\n",
              " (27, 'Co', 'Cobalt', 58.933195, 'transition metal'),\n",
              " (28, 'Ni', 'Nickel', 58.6934, 'transition metal'),\n",
              " (29, 'Cu', 'Copper', 63.546, 'transition metal'),\n",
              " (30, 'Zn', 'Zinc', 65.38, 'transition metal'),\n",
              " (31, 'Ga', 'Gallium', 69.723, 'metal'),\n",
              " (32, 'Ge', 'Germanium', 72.64, 'metalloid'),\n",
              " (33, 'As', 'Arsenic', 74.9216, 'metalloid'),\n",
              " (34, 'Se', 'Selenium', 78.96, 'nonmetal'),\n",
              " (35, 'Br', 'Bromine', 79.904, 'halogen'),\n",
              " (36, 'Kr', 'Krypton', 83.798, 'noble gas'),\n",
              " (37, 'Rb', 'Rubidium', 85.4678, 'alkali metal'),\n",
              " (38, 'Sr', 'Strontium', 87.62, 'alkaline earth metal'),\n",
              " (39, 'Y', 'Yttrium', 88.90585, 'transition metal'),\n",
              " (40, 'Zr', 'Zirconium', 91.224, 'transition metal'),\n",
              " (41, 'Nb', 'Niobium', 92.90638, 'transition metal'),\n",
              " (42, 'Mo', 'Molybdenum', 95.96, 'transition metal'),\n",
              " (43, 'Tc', 'Technetium', 98.0, 'transition metal'),\n",
              " (44, 'Ru', 'Ruthenium', 101.07, 'transition metal'),\n",
              " (45, 'Rh', 'Rhodium', 102.9055, 'transition metal'),\n",
              " (46, 'Pd', 'Palladium', 106.42, 'transition metal'),\n",
              " (47, 'Ag', 'Silver', 107.8682, 'transition metal'),\n",
              " (48, 'Cd', 'Cadmium', 112.411, 'transition metal'),\n",
              " (49, 'In', 'Indium', 114.818, 'metal'),\n",
              " (50, 'Sn', 'Tin', 118.71, 'metal'),\n",
              " (51, 'Sb', 'Antimony', 121.76, 'metalloid'),\n",
              " (52, 'Te', 'Tellurium', 127.6, 'metalloid'),\n",
              " (53, 'I', 'Iodine', 126.90447, 'halogen'),\n",
              " (54, 'Xe', 'Xenon', 131.293, 'noble gas'),\n",
              " (55, 'Cs', 'Cesium', 132.9054519, 'alkali metal'),\n",
              " (56, 'Ba', 'Barium', 137.327, 'alkaline earth metal'),\n",
              " (57, 'La', 'Lanthanum', 138.90547, 'lanthanoid'),\n",
              " (58, 'Ce', 'Cerium', 140.116, 'lanthanoid'),\n",
              " (59, 'Pr', 'Praseodymium', 140.90765, 'lanthanoid'),\n",
              " (60, 'Nd', 'Neodymium', 144.242, 'lanthanoid'),\n",
              " (61, 'Pm', 'Promethium', 145.0, 'lanthanoid'),\n",
              " (62, 'Sm', 'Samarium', 150.36, 'lanthanoid'),\n",
              " (63, 'Eu', 'Europium', 151.964, 'lanthanoid'),\n",
              " (64, 'Gd', 'Gadolinium', 157.25, 'lanthanoid'),\n",
              " (65, 'Tb', 'Terbium', 158.92535, 'lanthanoid'),\n",
              " (66, 'Dy', 'Dysprosium', 162.5, 'lanthanoid'),\n",
              " (67, 'Ho', 'Holmium', 164.93032, 'lanthanoid'),\n",
              " (68, 'Er', 'Erbium', 167.259, 'lanthanoid'),\n",
              " (69, 'Tm', 'Thulium', 168.93421, 'lanthanoid'),\n",
              " (70, 'Yb', 'Ytterbium', 173.054, 'lanthanoid'),\n",
              " (71, 'Lu', 'Lutetium', 174.9668, 'transition metal'),\n",
              " (72, 'Hf', 'Hafnium', 178.49, 'transition metal'),\n",
              " (73, 'Ta', 'Tantalum', 180.94788, 'transition metal'),\n",
              " (74, 'W', 'Tungsten', 183.84, 'transition metal'),\n",
              " (75, 'Re', 'Rhenium', 186.207, 'transition metal'),\n",
              " (76, 'Os', 'Osmium', 190.23, 'transition metal'),\n",
              " (77, 'Ir', 'Iridium', 192.217, 'transition metal'),\n",
              " (78, 'Pt', 'Platinum', 195.084, 'transition metal'),\n",
              " (79, 'Au', 'Gold', 196.966569, 'transition metal'),\n",
              " (80, 'Hg', 'Mercury', 200.59, 'transition metal'),\n",
              " (81, 'Tl', 'Thallium', 204.3833, 'metal'),\n",
              " (82, 'Pb', 'Lead', 207.2, 'metal'),\n",
              " (83, 'Bi', 'Bismuth', 208.9804, 'metal'),\n",
              " (84, 'Po', 'Polonium', 209.0, 'metalloid'),\n",
              " (85, 'At', 'Astatine', 210.0, 'halogen'),\n",
              " (86, 'Rn', 'Radon', 222.0, 'noble gas'),\n",
              " (87, 'Fr', 'Francium', 223.0, 'alkali metal'),\n",
              " (88, 'Ra', 'Radium', 226.0, 'alkaline earth metal'),\n",
              " (89, 'Ac', 'Actinium', 227.0, 'actinoid'),\n",
              " (90, 'Th', 'Thorium', 232.03806, 'actinoid'),\n",
              " (91, 'Pa', 'Protactinium', 231.03588, 'actinoid'),\n",
              " (92, 'U', 'Uranium', 238.02891, 'actinoid'),\n",
              " (93, 'Np', 'Neptunium', 237.0, 'actinoid'),\n",
              " (94, 'Pu', 'Plutonium', 244.0, 'actinoid'),\n",
              " (95, 'Am', 'Americium', 243.0, 'actinoid'),\n",
              " (96, 'Cm', 'Curium', 247.0, 'actinoid'),\n",
              " (97, 'Bk', 'Berkelium', 247.0, 'actinoid'),\n",
              " (98, 'Cf', 'Californium', 251.0, 'actinoid'),\n",
              " (99, 'Es', 'Einsteinium', 252.0, 'actinoid'),\n",
              " (100, 'Fm', 'Fermium', 257.0, 'actinoid'),\n",
              " (101, 'Md', 'Mendelevium', 258.0, 'actinoid'),\n",
              " (102, 'No', 'Nobelium', 259.0, 'actinoid'),\n",
              " (103, 'Lr', 'Lawrencium', 262.0, 'transition metal'),\n",
              " (104, 'Rf', 'Rutherfordium', 267.0, 'transition metal'),\n",
              " (105, 'Db', 'Dubnium', 268.0, 'transition metal'),\n",
              " (106, 'Sg', 'Seaborgium', 271.0, 'transition metal'),\n",
              " (107, 'Bh', 'Bohrium', 272.0, 'transition metal'),\n",
              " (108, 'Hs', 'Hassium', 270.0, 'transition metal'),\n",
              " (109, 'Mt', 'Meitnerium', 276.0, 'transition metal'),\n",
              " (110, 'Ds', 'Darmstadtium', 281.0, 'transition metal'),\n",
              " (111, 'Rg', 'Roentgenium', 280.0, 'transition metal'),\n",
              " (112, 'Cn', 'Copernicium', 285.0, 'transition metal'),\n",
              " (113, 'Uut', 'Ununtrium', 284.0, 'metal'),\n",
              " (114, 'Uuq', 'Ununquadium', 289.0, 'metal'),\n",
              " (115, 'Uup', 'Ununpentium', 288.0, 'halogen'),\n",
              " (116, 'Uuh', 'Ununhexium', 293.0, 'noble gas'),\n",
              " (117, 'Uus', 'Ununseptium', 294.0, 'alkali metal'),\n",
              " (118, 'Uuo', 'Ununoctium', 294.0, 'alkaline earth metal')]"
            ]
          },
          "metadata": {
            "tags": []
          },
          "execution_count": 7
        }
      ]
    },
    {
      "cell_type": "markdown",
      "metadata": {
        "id": "H1ei5LG1XxPi",
        "colab_type": "text"
      },
      "source": [
        "## Step 3: Alternatively, Inspect Your New Database in SQLite3\n",
        "If you have **sqlite3** installed, you can inspect and play with your newly created database. Note that column type information has been translated from the Table Schema format to native SQLite types:\n",
        "\n",
        "```\n",
        "$ sqlite3 periodic-table-datapackage.db\n",
        "SQLite version 3.19.3 2017-06-27 16:48:08\n",
        "Enter \".help\" for usage hints.\n",
        "\n",
        "/*check database schema*/\n",
        "\n",
        "sqlite> .schema\n",
        "CREATE TABLE data (\n",
        "  \"atomic number\" INTEGER,\n",
        "  symbol TEXT,\n",
        "  name TEXT,\n",
        "  \"atomic mass\" FLOAT,\n",
        "  \"metal or nonmetal?\" TEXT\n",
        ");\n",
        "\n",
        "/*view all records in the data table*/\n",
        "\n",
        "SELECT * from data;\n",
        "```\n"
      ]
    },
    {
      "cell_type": "markdown",
      "metadata": {
        "id": "t7uyIxMMX4OL",
        "colab_type": "text"
      },
      "source": [
        "## Related Reference Documentation\n",
        "- links like: https://github.com/frictionlessdata/datapackage-py"
      ]
    }
  ]
}