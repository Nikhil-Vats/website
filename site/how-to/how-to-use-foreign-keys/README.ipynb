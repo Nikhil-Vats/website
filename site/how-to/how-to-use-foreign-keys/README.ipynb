{
  "nbformat": 4,
  "nbformat_minor": 0,
  "metadata": {
    "colab": {
      "name": "ForeignKeysDP.ipynb",
      "provenance": []
    },
    "kernelspec": {
      "name": "python3",
      "display_name": "Python 3"
    }
  },
  "cells": [
    {
      "cell_type": "markdown",
      "metadata": {
        "id": "SiwzItOmRBG6",
        "colab_type": "text"
      },
      "source": [
        "# How to use Foreign Keys in Data Packages\n",
        "---\n",
        "**Intermediate | Python | Datapackage**\n",
        "---\n",
        "## Learning Goals:\n",
        "- Learn how to work with foreign keys in your data packages\n",
        "- Learn how to validate your data integrity with foreign keys\n",
        "- This How-To assumes knowledge of how to create a [data package](TODO: add docs link) and assumes that you have defined foreign keys in your Table Schema specification data (i.e. your data package descriptor has ```resources[].schema.foreignKeys property defined```)."
      ]
    },
    {
      "cell_type": "markdown",
      "metadata": {
        "id": "2x82nlPZUg0h",
        "colab_type": "text"
      },
      "source": [
        "## Step 0: Installation"
      ]
    },
    {
      "cell_type": "code",
      "metadata": {
        "id": "cYwEj1-UTTwA",
        "colab_type": "code",
        "colab": {}
      },
      "source": [
        "!pip install datapackage"
      ],
      "execution_count": 0,
      "outputs": []
    },
    {
      "cell_type": "markdown",
      "metadata": {
        "id": "fOk35WybTdx1",
        "colab_type": "text"
      },
      "source": [
        "## Step 1: Load datapackage"
      ]
    },
    {
      "cell_type": "markdown",
      "metadata": {
        "id": "zfM5ds4AT-lm",
        "colab_type": "text"
      },
      "source": [
        "We will work with this example data package:"
      ]
    },
    {
      "cell_type": "code",
      "metadata": {
        "id": "aTpHG-pFWet6",
        "colab_type": "code",
        "colab": {}
      },
      "source": [
        "DESCRIPTOR = {\n",
        "  'resources': [\n",
        "    {\n",
        "      'name': 'teams',\n",
        "      'data': [\n",
        "        ['id', 'name', 'city'],\n",
        "        ['1', 'Arsenal', 'London'],\n",
        "        ['2', 'Real', 'Madrid'],\n",
        "        ['3', 'Bayern', 'Munich'],\n",
        "      ],\n",
        "      'schema': {\n",
        "        'fields': [\n",
        "          {'name': 'id', 'type': 'integer'},\n",
        "          {'name': 'name', 'type': 'string'},\n",
        "          {'name': 'city', 'type': 'string'},\n",
        "        ],\n",
        "        'foreignKeys': [\n",
        "          {\n",
        "            'fields': 'city',\n",
        "            'reference': {'resource': 'cities', 'fields': 'name'},\n",
        "          },\n",
        "        ],\n",
        "      },\n",
        "    }, {\n",
        "      'name': 'cities',\n",
        "      'data': [\n",
        "        ['name', 'country'],\n",
        "        ['London', 'England'],\n",
        "        ['Madrid', 'Spain'],\n",
        "      ],\n",
        "    },\n",
        "  ],\n",
        "}"
      ],
      "execution_count": 0,
      "outputs": []
    },
    {
      "cell_type": "code",
      "metadata": {
        "id": "fYMRhYgUTyBb",
        "colab_type": "code",
        "colab": {}
      },
      "source": [
        "from datapackage import Package\n",
        "\n",
        "package = Package(DESCRIPTOR)"
      ],
      "execution_count": 0,
      "outputs": []
    },
    {
      "cell_type": "markdown",
      "metadata": {
        "id": "FYqtInTDUUu4",
        "colab_type": "text"
      },
      "source": [
        "## Step 2: Check for foreign key violations with ```resource.check_relations()``` method"
      ]
    },
    {
      "cell_type": "code",
      "metadata": {
        "id": "uJtC8uUkUcJ-",
        "colab_type": "code",
        "colab": {}
      },
      "source": [
        "teams = package.get_resource('teams')\n",
        "teams.check_relations()\n",
        "# tableschema.exceptions.RelationError: Foreign key \"['city']\" violation in row \"4\""
      ],
      "execution_count": 0,
      "outputs": []
    },
    {
      "cell_type": "markdown",
      "metadata": {
        "id": "pQiawymjUvty",
        "colab_type": "text"
      },
      "source": [
        "We get an error because our lookup table ```cities``` does not have a city of ```Munich``` but there is a team from ```Munich``` in the ```teams``` resource."
      ]
    },
    {
      "cell_type": "markdown",
      "metadata": {
        "id": "SdyaD2I2VMmf",
        "colab_type": "text"
      },
      "source": [
        "## Step 4: Fix the error"
      ]
    },
    {
      "cell_type": "code",
      "metadata": {
        "id": "vqZwW0pFVTW-",
        "colab_type": "code",
        "colab": {}
      },
      "source": [
        "package.descriptor['resources'][1]['data'].append(['Munich', 'Germany'])\n",
        "package.commit()\n",
        "teams = package.get_resource('teams')\n",
        "teams.check_relations()\n",
        "# True"
      ],
      "execution_count": 0,
      "outputs": []
    },
    {
      "cell_type": "markdown",
      "metadata": {
        "id": "wb4RHzGqVb40",
        "colab_type": "text"
      },
      "source": [
        "Fixed!"
      ]
    },
    {
      "cell_type": "markdown",
      "metadata": {
        "id": "BqH8NJmNVc2D",
        "colab_type": "text"
      },
      "source": [
        "## Step 5: (Optional) Dereference resource relations with ```resource.read()``` method"
      ]
    },
    {
      "cell_type": "code",
      "metadata": {
        "id": "s-QxBM-lYGji",
        "colab_type": "code",
        "colab": {}
      },
      "source": [
        "teams.read(keyed=True, relations=True)\n",
        "#[{'id': 1, 'name': 'Arsenal', 'city': {'name': 'London', 'country': 'England}},\n",
        "# {'id': 2, 'name': 'Real', 'city': {'name': 'Madrid', 'country': 'Spain}},\n",
        "# {'id': 3, 'name': 'Bayern', 'city': {'name': 'Munich', 'country': 'Germany}}]"
      ],
      "execution_count": 0,
      "outputs": []
    },
    {
      "cell_type": "markdown",
      "metadata": {
        "id": "M_VdCU27YJYs",
        "colab_type": "text"
      },
      "source": [
        "Now instead of only the city name we've got a dictionary containing the city data. These ```resource.iter/read``` methods will fail the same as ```resource.check_relations``` if there is an integrity issue, but only if ```relations=True``` flag is passed."
      ]
    },
    {
      "cell_type": "markdown",
      "metadata": {
        "id": "a3GZpgJ6vQ3R",
        "colab_type": "text"
      },
      "source": [
        "## Related Reference Documentation\n",
        "- https://github.com/frictionlessdata/datapackage-py"
      ]
    }
  ]
}